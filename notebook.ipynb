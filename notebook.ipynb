{
  "cells": [
    {
      "metadata": {
        "_kg_hide-output": false,
        "_uuid": "1158527eefbefac03adafd5907d43ee4c7c65a02",
        "trusted": false,
        "_cell_guid": "8a699b16-5011-45c0-addd-9bebea85fbec"
      },
      "cell_type": "code",
      "source": "#Reading the dataset(only for kernel!!)\nlibrary(\"readr\")\ntrain <- read.csv(\"../input/Train_UWu5bXk.csv\")\ntest <- read.csv(\"../input/Test_u94Q5KV.csv\")",
      "execution_count": null,
      "outputs": []
    },
    {
      "metadata": {
        "_kg_hide-input": false,
        "_uuid": "f2be3ff08b42aa08a9da1a4e19f45e08bb629047",
        "trusted": false,
        "_cell_guid": "db58542f-efbe-4351-977d-e0b6f26563b7"
      },
      "cell_type": "code",
      "source": "#Viewing first few rows of the training dataset\nhead(train)",
      "execution_count": null,
      "outputs": []
    },
    {
      "metadata": {
        "_uuid": "40d672e5c3e0431d5f5290add79d2f144e8b50a4",
        "trusted": false,
        "_cell_guid": "bfdc10fd-e212-4a97-b359-78c417e0296c"
      },
      "cell_type": "code",
      "source": "#Understanding the internal structure of the  training dataset.\nstr(train)\n## Notice that the variables like Item_Type are already categorical(factor, not character), so \n## there is no need to change them\n## We have 7 categorical variables, 4 numerical variables and 1 integer variable.",
      "execution_count": null,
      "outputs": []
    },
    {
      "metadata": {
        "_uuid": "86fcc3b04da2a1d90cd2cd3bfc0cab36161f1af1",
        "trusted": false,
        "_cell_guid": "92f63669-3742-48fd-a1a0-29714e843809"
      },
      "cell_type": "code",
      "source": "#Understanding the internal structure of the  test dataset.\nstr(test)\n## Notice that the variables like Item_Type are already categorical(factor, not character), so \n## there is no need to change them.\n## We see that there is no Item_Outlet-Sales in the test data. That is the variable that we\n## have to predict.",
      "execution_count": null,
      "outputs": []
    },
    {
      "metadata": {
        "_uuid": "7616c63837f24e0ea9935d20628240c6ff2dc02c",
        "trusted": false,
        "_cell_guid": "7b5a7b20-eed8-4e2e-8e60-d3a2f288dd7a"
      },
      "cell_type": "code",
      "source": "#Summarizing the numeric variables\nsummary(train)\n## Here, take note of the fact that the number of NA(missing) values is also shown",
      "execution_count": null,
      "outputs": []
    },
    {
      "metadata": {
        "_uuid": "f45bdc60552f6a728cec2b6968aaa9b20264eb63",
        "trusted": false,
        "_cell_guid": "2cf378e2-d8ba-4e63-af56-525928a94a2c"
      },
      "cell_type": "code",
      "source": "#Summarizing variable-wise(here Outlet_Establishment)\nsummary(train$Outlet_Establishment)",
      "execution_count": null,
      "outputs": []
    },
    {
      "metadata": {
        "_uuid": "d2d7b59ce5751db03834b4de211b5b22546212df",
        "trusted": false,
        "_cell_guid": "bc7b0c31-38c4-4840-a8a8-929f08baebb5"
      },
      "cell_type": "code",
      "source": "#Understanding the categorical variable distribution.(here Outlet_Type)\ntable(train$Outlet_Type)",
      "execution_count": null,
      "outputs": []
    },
    {
      "metadata": {
        "_uuid": "a17f1455927e2877788a21b31919fa1f7c22a6bb",
        "trusted": false,
        "_cell_guid": "83d6bc81-ec24-4902-a019-308db7a0a9ad"
      },
      "cell_type": "code",
      "source": "#Checking the number of NA(missing) values\ntable(train$Outlet_Type, useNA = \"always\")\n## Here the number of missing values is 0",
      "execution_count": null,
      "outputs": []
    },
    {
      "metadata": {
        "_uuid": "b871d28ef3c3de5d8fead7567ee09020db2ba2b9",
        "trusted": false,
        "_cell_guid": "143e3608-052b-4e27-bb2f-653413a9ef6c"
      },
      "cell_type": "code",
      "source": "#Checking the distribution of categorical variables percentage wise\nprop.table(table(train$Outlet_Type, useNA = \"always\"))*100",
      "execution_count": null,
      "outputs": []
    },
    {
      "metadata": {
        "_uuid": "0fbb068bd85917a8ca5dd7f4807851fc461281d6",
        "trusted": false,
        "_cell_guid": "bef5d897-01e6-4d15-b871-228c7ec7a4df"
      },
      "cell_type": "code",
      "source": "## Explore the data, check out every variable in the data to get more comfortable\n## with it(fill '---\" with the desired variable). You can also check out the test data",
      "execution_count": null,
      "outputs": []
    },
    {
      "metadata": {
        "_uuid": "0149ff08a223087aa4a7c252431d47229dddcfe4",
        "trusted": false,
        "_cell_guid": "45b0cfbb-a053-45e2-ab94-640f0bd1bd87"
      },
      "cell_type": "code",
      "source": "#Numeric Variables\n#summary(train$---)",
      "execution_count": null,
      "outputs": []
    },
    {
      "metadata": {
        "_uuid": "86a2fba81e388672daafc7c07197789b4c30accc",
        "trusted": false,
        "_cell_guid": "c2bb3a4a-69c7-4cce-a52d-a8bf2ed160e9"
      },
      "cell_type": "code",
      "source": "#Categorical Variables\n#table(train$---, useNA = \"always\")\n#prop.table(table(train$---, useNA = \"always\"))*100",
      "execution_count": null,
      "outputs": []
    },
    {
      "metadata": {
        "_uuid": "5e83a4671da6f65397c57af76ee667cabd0255ed",
        "trusted": false,
        "_cell_guid": "213583d2-4b47-4ade-8726-ac38c0fd0c94"
      },
      "cell_type": "code",
      "source": "## We have to perform same operations on train and test data. Rather than doing the same\n## operations twice, it is better to append(attach) the train and test data together.",
      "execution_count": null,
      "outputs": []
    },
    {
      "metadata": {
        "_uuid": "0b27230a82b2272d9b5f0ab3cb5d229acf136ad8",
        "trusted": false,
        "_cell_guid": "498934c3-eba2-4b24-961a-66501a1e3cc7"
      },
      "cell_type": "code",
      "source": "#Appending the train and test dataset\n\n## We can't append the datasets unless they have the same number of columns. Therefore, we will\n## add another column(Item_outlet_Sales)(the dependent variable), to the test dataset.\ntest$Item_Outlet_Sales <- NA\n\n## Now, we will append the datasets, and create a new dataset named 'data'\ndata <- rbind(train, test)",
      "execution_count": null,
      "outputs": []
    },
    {
      "metadata": {
        "_uuid": "f94b0845b98ebf3311bf160eee7ac44faf01655a",
        "trusted": false,
        "_cell_guid": "853ab899-5b17-4ba6-b75f-fe2bfd269949"
      },
      "cell_type": "code",
      "source": "# Checking the dimensions of data\ndim(data)\n## Let's compare to the test and train datasets\ndim(train)\ndim(test)",
      "execution_count": null,
      "outputs": []
    },
    {
      "metadata": {
        "_uuid": "9bbb891d4f2e18716c003d11e443866a27b40185",
        "trusted": false,
        "_cell_guid": "7802920a-4aa6-4225-9651-2d6765d43cbd"
      },
      "cell_type": "code",
      "source": "#Checking the missing(NA) values of the data\nsummary(is.na(data)) \n## is.na() returns a logical vector which indicates the number of datapoints which are missing\n## TRUE indicates missing.",
      "execution_count": null,
      "outputs": []
    },
    {
      "metadata": {
        "_uuid": "87658aafacab28472858f1bd88ff43c7cba52ddd",
        "trusted": false,
        "_cell_guid": "cfbb49e8-7e4c-4f86-a022-812a79cb574d"
      },
      "cell_type": "code",
      "source": "## We can see that only Item_Weight has missing values.\n## Item_Outlet_Sales has missing values because it is the dependent variable, and the data points \n## corresponding to the test data have missing values. So we don't have to worry about that.",
      "execution_count": null,
      "outputs": []
    },
    {
      "metadata": {
        "_uuid": "078e29cd3e679e94e19820843d62bcb61eae13d7",
        "trusted": false,
        "_cell_guid": "0027cc12-673f-40ff-9e1d-820517e6e84a"
      },
      "cell_type": "code",
      "source": "#Missing imputing values.\n#Method-1(Mean method)\n## We input the mean of rest of the data in place of the missing values.\n\n#Finding the mean of the variable\n mean(data$Item_Weight) \n## will return NA. therefore, we have to specify to find the mean the 'non-NA' values\n mean((data$Item_Weight), na.rm = TRUE)\n## na.rm = TRUE will remove the NA values to while calculating the mean. \n## OR\n mean(data$Item_Weight[!is.na(data$Item_Weight)])\n## '!' returns the FALSE values",
      "execution_count": null,
      "outputs": []
    },
    {
      "metadata": {
        "_uuid": "98e0f28ac6e407337b3b1f27a4599f669a26a9f9",
        "trusted": false,
        "_cell_guid": "37f5d056-36ae-491e-a6b9-33093aebe768"
      },
      "cell_type": "code",
      "source": "## Now, we will imsert this value in place of the missing value\n## We will make another dataset to observe.\ndata_mean_impu <- data\ndata_mean_impu$Item_Weight[is.na(data_mean_impu$Item_Weight)] <- mean(data$Item_Weight[!is.na(data_mean_impu$Item_Weight)])\nsummary(data_mean_impu$Item_Weight)",
      "execution_count": null,
      "outputs": []
    },
    {
      "metadata": {
        "_uuid": "07cb238354dadc0d5878525b898d05cbbb009de3",
        "trusted": false,
        "_cell_guid": "3135ca74-d1ee-4698-b0b3-1d612a9fe4e6"
      },
      "cell_type": "code",
      "source": "#Method-2 (Median imputation)\n## We input the median of rest of the data in place of the missing values.\n median((data$Item_Weight), na.rm = TRUE)\n median(data$Item_Weight[!is.na(data$Item_Weight)])",
      "execution_count": null,
      "outputs": []
    },
    {
      "metadata": {
        "_uuid": "36fb198fb655bc9310b872ee62aa641b49c54174",
        "trusted": false,
        "_cell_guid": "4b385a5f-4138-4d36-9be3-a7cfbdf73f9c"
      },
      "cell_type": "code",
      "source": "## Now, we will imsert this value in place of the missing value\n## We will make another dataset to observe.\ndata_median_impu <- data\ndata_median_impu$Item_Weight[is.na(data_median_impu$Item_Weight)] <- median(data$Item_Weight[!is.na(data_median_impu$Item_Weight)])\nsummary(data_median_impu$Item_Weight)",
      "execution_count": null,
      "outputs": []
    },
    {
      "metadata": {
        "_uuid": "35dcb840cd854d5529191a171bd1ef7ea1fe4b9c",
        "trusted": false,
        "_cell_guid": "6537884e-daf2-4c83-bd65-7646966f7c31"
      },
      "cell_type": "code",
      "source": "##Since the only variable with missing values is numerical, we won't be using the k-NN method,\n##which is for categorical variables. However, you can have a glance at k-NN implementation\n##  https://www.youtube.com/watch?v=u8XvfhBdbMw ",
      "execution_count": null,
      "outputs": []
    },
    {
      "metadata": {
        "_uuid": "16fe4d3265f775260b66da2c17ac5f7c694db7ff",
        "trusted": false,
        "_cell_guid": "2424a669-4973-4072-a60d-749eceec1386"
      },
      "cell_type": "code",
      "source": "#Method-3(Advanced Packages)(Optional)\n## There are many powerful packages in R which help us input missing values\n##For e.g. Mice, missForest, mi, Amelia etc. All packages have their specific uses,\n## and pitfalls. For, more information, you can refer:-\n## https://www.analyticsvidhya.com/blog/2016/03/tutorial-powerful-packages-imputing-missing-values/\n",
      "execution_count": null,
      "outputs": []
    },
    {
      "metadata": {
        "_uuid": "1ce3ee2747764967788763661d3abaf39e41e8ea",
        "trusted": false,
        "_cell_guid": "3b3e116e-bc1f-4dc3-b75d-e3680f334009"
      },
      "cell_type": "code",
      "source": "## First, we need to understand the distriution of Item_Weight. We can understand it better,\n## if we can visually see it. Here, we will plot the histogram.\nhist(data$Item_Weight)\nhist(data_mean_impu$Item_Weight)\nhist(data_median_impu$Item_Weight)",
      "execution_count": null,
      "outputs": []
    },
    {
      "metadata": {
        "_uuid": "07901b59c92ca0ab35d6d801e6385acae9073a8c",
        "trusted": false,
        "_cell_guid": "8faf7ab5-a15a-4251-a44d-fa1ff90f4753"
      },
      "cell_type": "code",
      "source": "## As we can see, the methods of imputing mean and median for this case \n## would be a bad idea(the data biases too much). Instead,we will use the package Hmisc.\n## But first, we will do some data cleaning.\n## Notice that in Item_Fat_Content, we have LF, low fat and Low Fat, which are same. Also,\n## reg and Regular are same. Therefore, add the observations of \"LF\" and \"low fat\" to \"Low fat\",\n## and \"reg\" to \"Regular\"\ndata$Item_Fat_Content <- gsub(\"LF\", \"Low Fat\", data$Item_Fat_Content)\ndata$Item_Fat_Content <- gsub(\"low fat\", \"Low Fat\", data$Item_Fat_Content)\ndata$Item_Fat_Content <- gsub(\"reg\", \"Regular\", data$Item_Fat_Content)\ntable(data$Item_Fat_Content) # Viewing the variable",
      "execution_count": null,
      "outputs": []
    },
    {
      "metadata": {
        "_uuid": "10f166943cd0b981a38a58d73b00f0969828e2fd",
        "trusted": false,
        "_cell_guid": "2878b419-285a-4bf8-b715-240de81a03fd"
      },
      "cell_type": "code",
      "source": "## Notice that Item_Type has factors which are not food items. So, Item_Fat_Content makes no\n## sense. Hence we will add a new factor(level): \"None\", which will correspond to the \n## non-food items in Item_Type.\n\n#Adding new level in Item_Fat_Content \"None\"\nlevels(data$Item_Fat_Content) <- c(levels(data$Item_Fat_Content), \"None\")\n\n## Based on Item_Type, for \"health and Hygiene\", \"Household\" and \"Others\",\n## we will change the Item_Fat_Content factor to \"None\".\ndata[which(data$Item_Type==\"Health and Hygiene\"), ]$Item_Fat_Content = \"None\"\ndata[which(data$Item_Type==\"Household\"), ]$Item_Fat_Content = \"None\"\ndata[which(data$Item_Type==\"Others\"), ]$Item_Fat_Content = \"None\"\ndata$Item_Fat_Content <- as.factor(data$Item_Fat_Content)\ntable(data$Item_Fat_Content) # Viewing the variable",
      "execution_count": null,
      "outputs": []
    },
    {
      "metadata": {
        "_uuid": "64e76687c41a1a3a286f424e3ba2291b6bbc689c",
        "trusted": false,
        "_cell_guid": "e655bb2f-925d-4269-b4ec-2308e2195474"
      },
      "cell_type": "code",
      "source": "## Notice that the column Outlet_Size has blank values. We will now procede to replace them.\n## We will compare them with other variables, to understand better about the missing variables.",
      "execution_count": null,
      "outputs": []
    },
    {
      "metadata": {
        "_uuid": "ae6184c81ff83715818abeae3c3673f7c9205507",
        "trusted": false,
        "_cell_guid": "5fd471b5-d3ff-4680-9a12-0b101724fa9e"
      },
      "cell_type": "code",
      "source": "Outlet_Size_Length <- as.data.frame(setNames(aggregate(data$Outlet_Size, \n                              by=list(Category=data$Outlet_Identifier, \n                                      Category=data$Outlet_Type,\n                                      Category=data$Outlet_Location_Type,\n                                      Category=data$Outlet_Size), FUN= length), \n                                      c(\"Outlet_Identifier\",\"Outlet_Type\", \"Outlet_Location_Type\", \"Outlet_Size\", \"number\")))\nOutlet_Size_Length # Viewing the data frame",
      "execution_count": null,
      "outputs": []
    },
    {
      "metadata": {
        "scrolled": true,
        "_uuid": "2f12302b69a024fb79b078174ff84f0f69ab223e",
        "trusted": false,
        "_cell_guid": "f8ab763b-7005-4ef3-a962-2576ac0d806d"
      },
      "cell_type": "code",
      "source": "table(data[which(data$Outlet_Type=='Grocery Store'), ]$Outlet_Size, useNA='always')\ntable(data[which(data$Outlet_Type=='Supermarket Type1'), ]$Outlet_Size, useNA='always')\ntable(data[which(data$Outlet_Type=='Supermarket Type2'), ]$Outlet_Size, useNA='always')\ntable(data[which(data$Outlet_Location_Type=='Tier 1'), ]$Outlet_Size, useNA='always')\ntable(data[which(data$Outlet_Location_Type=='Tier 2'), ]$Outlet_Size, useNA='always')\ntable(data[which(data$Outlet_Location_Type=='Tier 3'), ]$Outlet_Size, useNA='always')",
      "execution_count": null,
      "outputs": []
    },
    {
      "metadata": {
        "_uuid": "490138871d16b7c66fd91fb86ff85acd31b56cf5",
        "trusted": false,
        "_cell_guid": "203266b7-4ac0-4b11-b81f-ffd765a35569"
      },
      "cell_type": "code",
      "source": "## As per analysis, we would be better off by fixing category 'Small', on every 'Grocery Store',\n## and for the remaining blank values, we will assign category 'Small' again.\ndata[which(data$Outlet_Identifier==\"OUT010\"), ]$Outlet_Size <- \"Small\"\ndata[which(data$Outlet_Identifier==\"OUT017\"), ]$Outlet_Size <- \"Small\"\ndata[which(data$Outlet_Identifier==\"OUT045\"), ]$Outlet_Size <- \"Small\"\ndata$Outlet_Size <- factor(data$Outlet_Size) # Running factor on an existing factor variable will reset the levels to only those that are present.\ntable(data$Outlet_Size)",
      "execution_count": null,
      "outputs": []
    },
    {
      "metadata": {
        "_uuid": "7c0144e202a1025953652a20db543bd5aa89533d",
        "trusted": false,
        "_cell_guid": "360965a1-4f5a-4c87-8716-58ff60627e68"
      },
      "cell_type": "code",
      "source": "## Since we are only concerned with how old the outlet is, and not the establishment year,\n## we will substitute Outlet_Establishment_Year with Outlet_Year\ndata$Outlet_Year <- as.factor(2013-data$Outlet_Establishment_Year) # Since this is 2013 data\ntable(data$Outlet_Year)",
      "execution_count": null,
      "outputs": []
    },
    {
      "metadata": {
        "_uuid": "8de1de587b886358c4ee9f1dda0fde38ede58216",
        "trusted": false,
        "_cell_guid": "da3b8ea1-bfed-4afe-9552-d5557f7f0a16"
      },
      "cell_type": "code",
      "source": "## Visualizing Item_MRP with ggplot\nlibrary(ggplot2)\nggplot(data, aes(Item_MRP)) + geom_density(adjust = 1/5)\n## It is obvious that we would be better off by converting Item_MRP to Categorical variable",
      "execution_count": null,
      "outputs": []
    },
    {
      "metadata": {
        "_uuid": "f53b6b4b18a88cf7cbbb912316c0ed143215d46a",
        "trusted": false,
        "_cell_guid": "c7b4b893-d6bf-460d-b589-a642977fa34d"
      },
      "cell_type": "code",
      "source": "data$MRP_Factor <- as.factor(ifelse(data$Item_MRP < 70, \"Low\" ,\n                             ifelse(data$Item_MRP <130, \"Medium\",\n                             ifelse(data$Item_MRP < 201, \"High\", \"Very High\"))))\ntable(data$MRP_Factor) # Viewing the new variable",
      "execution_count": null,
      "outputs": []
    },
    {
      "metadata": {
        "_uuid": "c01f02ac5663820769affcdf9a28880430a56133",
        "trusted": false,
        "_cell_guid": "1df1ec29-fd66-4b99-8601-6750c8ede556"
      },
      "cell_type": "code",
      "source": "## Notice that Item_Visibility has a minimum value of 0. It seems absurd that an item has 0 \n## visibility. Therefore, we will modify that column.\ndata_Visibility <- data[which(data$Item_Visibility !=0), c(1,4)]\nIV_m <- aggregate(Item_Visibility~Item_Identifier, data=data_Visibility, FUN=mean)",
      "execution_count": null,
      "outputs": []
    },
    {
      "metadata": {
        "_uuid": "6760ea854333da8c4bb0cefc07cd159008db226c",
        "trusted": false,
        "_cell_guid": "ddf78e0b-ebfe-4900-ba15-f81a99f82255"
      },
      "cell_type": "code",
      "source": "## Now, we will substitute the values according to IV_m in Item_Visibility",
      "execution_count": null,
      "outputs": []
    },
    {
      "metadata": {
        "_uuid": "c2aaf2da591ebbc235d74a72e047674d7df8dff9",
        "trusted": false,
        "_cell_guid": "8db0ee59-2e09-4b6f-830b-d9c9e1053db9"
      },
      "cell_type": "code",
      "source": "for(i in 1:1559){\n    if(dim(data[which(data$Item_Identifier==IV_m[i, ]$Item_Identifier & data$Item_Visibility=='0'), ])[1]!='0'){\n            data[which(data$Item_Identifier==IV_m[i, ]$Item_Identifier & data$Item_Visibility=='0'), ]$Item_Visibility <- IV_m[i, ]$Item_Visibility\n    }\n}",
      "execution_count": null,
      "outputs": []
    },
    {
      "metadata": {
        "_uuid": "f1f1eb2248c345aa24a85a1dc164d20c9bfec6fd",
        "trusted": false,
        "_cell_guid": "1e194627-3e2a-4ed8-8e58-d76f4edec36e"
      },
      "cell_type": "code",
      "source": "summary(data$Item_Visibility) #Checking",
      "execution_count": null,
      "outputs": []
    },
    {
      "metadata": {
        "_uuid": "f423744d45bd387234a2fa3585ecfaee78a6f58d",
        "trusted": false,
        "_cell_guid": "ae505bb3-98e1-478b-ba64-5be012e4fe64"
      },
      "cell_type": "code",
      "source": "## If you look at Item_Identifier, i.e. the unique ID of each item, it starts with either \n## FD, DR or NC. If you see the categories, these look like being Food, Drinks\n## and Non-Consumables. So, we will create a new broad variable that assigns these three factors\ndata$Item_Identifier <- as.character(data$Item_Identifier)\ndata$Item_Type_Broad <- as.factor(ifelse(grepl('FD',data$Item_Identifier)== 'TRUE',\"Foods\",\n                            ifelse(grepl('DR',data$Item_Identifier)== 'TRUE',\"Drinks\",\n                            \"Non-Consumables\" )))\ndata$Item_Identifier <- as.factor(data$Item_Identifier)",
      "execution_count": null,
      "outputs": []
    },
    {
      "metadata": {
        "_uuid": "89027086dd49b2731ad2d2ad3b0403adc29cb1e9",
        "trusted": false,
        "_cell_guid": "8729909c-3f57-4a15-92ee-6439285d0450"
      },
      "cell_type": "code",
      "source": "table(data$Item_Type_Broad, useNA='always') #Checking",
      "execution_count": null,
      "outputs": []
    },
    {
      "metadata": {
        "_uuid": "0c1754b6ad02ca4b05191dd35f97bdc0fd17d599",
        "trusted": false,
        "_cell_guid": "d5165be3-1f03-4a70-b6ec-ad530c5db620"
      },
      "cell_type": "code",
      "source": "#We will aso create a more brief Item_Type_Broad2 from Item_Type\ndata$Item_Type_Broad2 <- as.factor(ifelse(data$Item_Type == 'Baking Goods' | data$Item_Type == 'Breads', \"Bakery\", \n                                          ifelse(data$Item_Type == 'Canned' | data$Item_Type == 'Frozen Foods' | data$Item_Type == 'Dairy', \"Refrigerated\",\n                                          ifelse(data$Item_Type == 'Meat' | data$Item_Type == 'Seafood', \"Non-Veg\", \n                                          ifelse(data$Item_Type == 'Household' | data$Item_Type == 'Others' | data$Item_Type == 'Health and Hygiene', \"Other\",\n                                          ifelse(data$Item_Type == 'Hard Drinks', \"Alcoholic\",\n                                          ifelse(data$Item_Type == 'Snack Foods' | data$Item_Type == 'Soft Drinks', 'Snacks',\n                                          ifelse(data$Item_Type == 'Breakfast', 'Breakfast', \"NOTA\"))))))))\ntable(data$Item_Type_Broad2, useNA = 'always')",
      "execution_count": null,
      "outputs": []
    },
    {
      "metadata": {
        "_uuid": "b81bf13d1edbc790f27c7ae2c41af0964b73cde7",
        "trusted": false,
        "_cell_guid": "988f8809-006d-4090-8d37-de687eea7adf"
      },
      "cell_type": "code",
      "source": "## Now we will input missing values in Item_Weight\nset.seed(825) #Setting seed\nlibrary(Hmisc)\nimputed_arg <- aregImpute(~Item_Weight+Item_Fat_Content+Item_Type+Item_Type_Broad+ Item_Type_Broad2, \n                          data = data[ ,c(2,3,5,15,16)], boot.method = 'approximate bayesian', n.impute = 1)",
      "execution_count": null,
      "outputs": []
    },
    {
      "metadata": {
        "_uuid": "463866809f883f9a466cbb089924e56d9bd38e49",
        "trusted": false,
        "_cell_guid": "ac4c4183-3dea-4386-84bb-14a679b1793a"
      },
      "cell_type": "code",
      "source": "for(i in 1:2439){\n    if(dim(data[which(is.na(data$Item_Weight) == TRUE), ])[1]!='0'){\n            data[which(is.na(data$Item_Weight) == TRUE), ]$Item_Weight <- imputed_arg$imputed$Item_Weight\n    }\n}",
      "execution_count": null,
      "outputs": []
    },
    {
      "metadata": {
        "_uuid": "81483644360c035ab714332409a822e289952c90",
        "trusted": false,
        "_cell_guid": "183168a7-1f27-4e35-89ba-87525e18f8d3"
      },
      "cell_type": "code",
      "source": "summary(data$Item_Weight) #Checking",
      "execution_count": null,
      "outputs": []
    },
    {
      "metadata": {
        "_uuid": "4289473fed3420105d4e145eef620392481b514e",
        "trusted": false,
        "_cell_guid": "eb1fb6ce-73b6-4d60-af94-64692dba6e1a"
      },
      "cell_type": "code",
      "source": "## We are done with the data cleaning and feature engineering. If you can come up with more ideas,\n## you are welcome to try.\n## Now, we will divide the data into train and test.",
      "execution_count": null,
      "outputs": []
    },
    {
      "metadata": {
        "_uuid": "645a4e24d2520de9263f34a16971d81e5b16995e",
        "trusted": false,
        "_cell_guid": "b8abc781-07a6-4f17-bd8b-1413b6faff6c"
      },
      "cell_type": "code",
      "source": "# Dividing data into train and test\ntrain <- data[1:8523, ]\ntest <- data[8524:14204, ]",
      "execution_count": null,
      "outputs": []
    }
  ],
  "metadata": {
    "kernelspec": {
      "display_name": "R",
      "language": "R",
      "name": "ir"
    },
    "language_info": {
      "mimetype": "text/x-r-source",
      "name": "R",
      "pygments_lexer": "r",
      "version": "3.4.2",
      "file_extension": ".r",
      "codemirror_mode": "r"
    }
  },
  "nbformat": 4,
  "nbformat_minor": 1
}